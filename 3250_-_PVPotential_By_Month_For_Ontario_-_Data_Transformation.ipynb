{
 "cells": [
  {
   "cell_type": "code",
   "execution_count": null,
   "metadata": {},
   "outputs": [],
   "source": [
    "import pandas as pd\n",
    "import numpy as np\n",
    "import matplotlib.pyplot as plt\n",
    "df = pd.read_csv(\"C:\\\\Users\\\\shami\\\\OneDrive\\\\Documents\\\\3250 - Foundations of Data Science\\\\municip_potentiel-potential.csv\", encoding = \"ISO-8859-1\")\n",
    "ont_data = pd.read_csv(\"C:\\\\Users\\\\shami\\\\OneDrive\\\\Documents\\\\3250 - Foundations of Data Science\\\\lat_long_Ontario.csv\", encoding = \"ISO-8859-1\")\n",
    "\n",
    "#get Ontario  data only\n",
    "df = df[df['Unnamed: 0']=='Ontario'].reset_index(drop=True)\n",
    "\n",
    "\n",
    "\n",
    "#rename columns\n",
    "df = df.rename(index=str, columns={\"Unnamed: 0\": \"Province\", \"Unnamed: 1\": \"Place\", \"Unnamed: 2\": \"Month\",\\\n",
    "                                  \"PV potential / Potentiel PV (kWh/kWp)\": \"PVpot tilt=90\",\\\n",
    "                                  \"PV potential / Potentiel PV (kWh/kWp).1\": \"PVpot tilt=lat\",\\\n",
    "                                  \"PV potential / Potentiel PV (kWh/kWp).2\": \"PVpot tilt=lat+15\",\\\n",
    "                                  \"PV potential / Potentiel PV (kWh/kWp).3\": \"PVpot tilt=lat-15\"})\n",
    "\n",
    "#drop Annual based rows. maybe needed not sure\n",
    "df = df[df.Month != 'Annual']\n",
    "\n",
    "\n",
    "\n",
    "\n",
    "df.dtypes"
   ]
  },
  {
   "cell_type": "code",
   "execution_count": null,
   "metadata": {},
   "outputs": [],
   "source": [
    "#change data type of PV potential colums to float\n",
    "cols = ['PVpot tilt=90','PVpot tilt=lat','PVpot tilt=lat+15','PVpot tilt=lat-15']\n",
    "df[cols] = df[cols].apply(pd.to_numeric, downcast='float', errors='coerce')\n"
   ]
  },
  {
   "cell_type": "code",
   "execution_count": null,
   "metadata": {},
   "outputs": [],
   "source": [
    "#define average PV potential\n",
    "df['AvgPVPotential'] = (df['PVpot tilt=90'] + df['PVpot tilt=lat'] + df['PVpot tilt=lat+15'] + df['PVpot tilt=lat-15'])/4\n",
    "\n",
    "\n",
    "months = ['January','February','March','April','May','June','July','August','September','October','November','December']\n",
    "\n",
    "\n",
    "\n"
   ]
  },
  {
   "cell_type": "code",
   "execution_count": null,
   "metadata": {},
   "outputs": [],
   "source": [
    "data_temp = ont_data[['Place']]\n",
    "#append all series containing PV potential of each month to appended_df\n",
    "appended_df = data_temp\n",
    "\n",
    "\n",
    "for i in months:\n",
    "    df_temp = pd.merge(data_temp, df.loc[df['Month'] == i][['Place','AvgPVPotential']], on='Place',how='inner')['AvgPVPotential']\n",
    "    df_temp = df_temp.rename(i)\n",
    "    appended_df = pd.concat([appended_df,df_temp],axis=1)\n",
    "\n",
    "dfinal = pd.merge(ont_data,appended_df,on='Place',how='inner')\n",
    "dfinal = dfinal.set_index('Place')\n",
    "print(dfinal)   "
   ]
  },
  {
   "cell_type": "code",
   "execution_count": null,
   "metadata": {},
   "outputs": [],
   "source": [
    "#save the csv file to your local path\n",
    "dfinal.to_csv(\"C:\\\\Users\\\\shami\\\\OneDrive\\\\Documents\\\\3250 - Foundations of Data Science\\\\PVPot_Ont_monthly.csv\")"
   ]
  },
  {
   "cell_type": "code",
   "execution_count": null,
   "metadata": {},
   "outputs": [],
   "source": []
  },
  {
   "cell_type": "code",
   "execution_count": null,
   "metadata": {},
   "outputs": [],
   "source": []
  }
 ],
 "metadata": {
  "kernelspec": {
   "display_name": "Python 3",
   "language": "python",
   "name": "python3"
  },
  "language_info": {
   "codemirror_mode": {
    "name": "ipython",
    "version": 3
   },
   "file_extension": ".py",
   "mimetype": "text/x-python",
   "name": "python",
   "nbconvert_exporter": "python",
   "pygments_lexer": "ipython3",
   "version": "3.7.1"
  }
 },
 "nbformat": 4,
 "nbformat_minor": 2
}
